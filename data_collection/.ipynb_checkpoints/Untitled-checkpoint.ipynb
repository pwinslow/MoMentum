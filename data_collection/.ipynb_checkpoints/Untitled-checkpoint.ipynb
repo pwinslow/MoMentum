{
 "cells": [
  {
   "cell_type": "code",
   "execution_count": 2,
   "metadata": {
    "collapsed": false
   },
   "outputs": [
    {
     "data": {
      "text/plain": [
       "'<p>We, the undersigned, as fellow members of LGBTQ2S communities, support and honour the work of Black Lives Matter - Toronto. We are in full solidarity with the action taken at Pride and with all of the demands and mandate for action (Read the demands here: <a href=\"https://www.facebook.com/blacklivesmatterTO/posts/519230751605753:0\" rel=\"nofollow\">https://www.facebook.com/blacklivesmatterTO/posts/519230751605753:0</a> We call out the anti-black racist backlash that has erupted and challenge all allies to speak out against this. We call out Pride Toronto for back-peddling and folding to the pressure of those in power. We will collectively hold you accountable. We challenge our LGBTQ2S communities to reignite the spirit of Stonewall and queer and trans liberation. We honour and are led by the efforts, leadership and organizing of trans women of colour and other black and indigenous LGBTQ2S members of our communities. We remember that none of us are free until all of us are free. Police are an oppressive paramilitary force who throw rainbows on paddy wagons and smile for the cameras for Pride, but criminalize and brutalize poor people, sex workers and people of colour, many of whom are also LGBTQ2S. Those same rainbow paddy wagons used on Pride Sunday drag people off to jail any other day. There is no pride in policing, they don\\'t belong in our spaces. We are committed to supporting Black Lives Matter - Toronto and taking action to show this support. To our Black, Indigenous and Latinx LGBTQ2S friends, family and lovers - we see you, we love you, we are behind you. For more information on BLM-TO: <a href=\"https://www.facebook.com/blacklivesmatterTO/\" rel=\"nofollow\">https://www.facebook.com/blacklivesmatterTO/</a> To Donate: send an e-transfer to info@blacklivesmatter.ca with the security answer as \"allblacklivesmatter\"</p>\\n<p>Organizational Endorsements:\\xc2\\xa0</p>\\n<p>Queer Trans Community Defence,<br>Maggie\\'s - Toronto Sex Workers Action Project,<br>Queen West - Central Toronto Community Health Centre,<br>Sex Professionals of Canada,<br>Butterfly - Migrant Sex Workers Project, \\xc2\\xa0 \\xc2\\xa0 \\xc2\\xa0 \\xc2\\xa0 \\xc2\\xa0 \\xc2\\xa0 \\xc2\\xa0 \\xc2\\xa0 \\xc2\\xa0 \\xc2\\xa0 \\xc2\\xa0 \\xc2\\xa0 \\xc2\\xa0 \\xc2\\xa0 \\xc2\\xa0 \\xc2\\xa0 \\xc2\\xa0 \\xc2\\xa0 \\xc2\\xa0 \\xc2\\xa0 \\xc2\\xa0 \\xc2\\xa0 \\xc2\\xa0 \\xc2\\xa0 \\xc2\\xa0 \\xc2\\xa0 Come As You Are Cooperative, \\xc2\\xa0 \\xc2\\xa0 \\xc2\\xa0 \\xc2\\xa0 \\xc2\\xa0 \\xc2\\xa0 \\xc2\\xa0 \\xc2\\xa0 \\xc2\\xa0 \\xc2\\xa0 \\xc2\\xa0 \\xc2\\xa0 \\xc2\\xa0 \\xc2\\xa0 \\xc2\\xa0 \\xc2\\xa0 \\xc2\\xa0 \\xc2\\xa0 \\xc2\\xa0 \\xc2\\xa0 \\xc2\\xa0 \\xc2\\xa0 \\xc2\\xa0 \\xc2\\xa0 \\xc2\\xa0 \\xc2\\xa0 \\xc2\\xa0 \\xc2\\xa0 \\xc2\\xa0 \\xc2\\xa0 \\xc2\\xa0 \\xc2\\xa0 Slut Walk Toronto, \\xc2\\xa0 \\xc2\\xa0 \\xc2\\xa0 \\xc2\\xa0 \\xc2\\xa0 \\xc2\\xa0 \\xc2\\xa0 \\xc2\\xa0 \\xc2\\xa0 \\xc2\\xa0 \\xc2\\xa0 \\xc2\\xa0 \\xc2\\xa0 \\xc2\\xa0 \\xc2\\xa0 \\xc2\\xa0 \\xc2\\xa0 \\xc2\\xa0 \\xc2\\xa0 \\xc2\\xa0 \\xc2\\xa0 \\xc2\\xa0 \\xc2\\xa0 \\xc2\\xa0 \\xc2\\xa0 \\xc2\\xa0 \\xc2\\xa0 \\xc2\\xa0 \\xc2\\xa0 \\xc2\\xa0 \\xc2\\xa0 \\xc2\\xa0 \\xc2\\xa0 \\xc2\\xa0 \\xc2\\xa0 \\xc2\\xa0 \\xc2\\xa0 Movement Defence Committee of the Law Union of Ontario, \\xc2\\xa0 \\xc2\\xa0 \\xc2\\xa0 \\xc2\\xa0 \\xc2\\xa0 \\xc2\\xa0 \\xc2\\xa0 \\xc2\\xa0 \\xc2\\xa0 \\xc2\\xa0 The Stop Community Food Centre, \\xc2\\xa0 \\xc2\\xa0 \\xc2\\xa0 \\xc2\\xa0 \\xc2\\xa0 \\xc2\\xa0 \\xc2\\xa0 \\xc2\\xa0 \\xc2\\xa0 \\xc2\\xa0 \\xc2\\xa0 \\xc2\\xa0 \\xc2\\xa0 \\xc2\\xa0 \\xc2\\xa0 \\xc2\\xa0 \\xc2\\xa0 \\xc2\\xa0 \\xc2\\xa0 \\xc2\\xa0 \\xc2\\xa0 \\xc2\\xa0 \\xc2\\xa0 \\xc2\\xa0 \\xc2\\xa0 \\xc2\\xa0 \\xc2\\xa0 Mining Injustice Solidarity Network, \\xc2\\xa0 \\xc2\\xa0 \\xc2\\xa0 \\xc2\\xa0 \\xc2\\xa0 \\xc2\\xa0 \\xc2\\xa0 \\xc2\\xa0 \\xc2\\xa0 \\xc2\\xa0 \\xc2\\xa0 \\xc2\\xa0 \\xc2\\xa0 \\xc2\\xa0 \\xc2\\xa0 \\xc2\\xa0 \\xc2\\xa0 \\xc2\\xa0 \\xc2\\xa0 \\xc2\\xa0 \\xc2\\xa0 \\xc2\\xa0 \\xc2\\xa0 \\xc2\\xa0 \\xc2\\xa0 \\xc2\\xa0 Ontario Coalition Against Poverty, \\xc2\\xa0 \\xc2\\xa0 \\xc2\\xa0 \\xc2\\xa0 \\xc2\\xa0 \\xc2\\xa0 \\xc2\\xa0 \\xc2\\xa0 \\xc2\\xa0 \\xc2\\xa0 \\xc2\\xa0 \\xc2\\xa0 \\xc2\\xa0 \\xc2\\xa0 \\xc2\\xa0 \\xc2\\xa0 \\xc2\\xa0 \\xc2\\xa0 \\xc2\\xa0 \\xc2\\xa0 \\xc2\\xa0 \\xc2\\xa0 \\xc2\\xa0 \\xc2\\xa0 \\xc2\\xa0 \\xc2\\xa0 \\xc2\\xa0 \\xc2\\xa0\\xc2\\xa0Artists Without Barriers</p>'"
      ]
     },
     "execution_count": 2,
     "metadata": {},
     "output_type": "execute_result"
    }
   ],
   "source": [
    "import pandas as pd\n",
    "df = pd.read_csv('CA_2_data.csv')\n",
    "df.loc[2].overview"
   ]
  },
  {
   "cell_type": "code",
   "execution_count": 18,
   "metadata": {
    "collapsed": false
   },
   "outputs": [
    {
     "data": {
      "text/plain": [
       "8"
      ]
     },
     "execution_count": 18,
     "metadata": {},
     "output_type": "execute_result"
    }
   ],
   "source": [
    "apis = pd.read_csv('../APIKey_list', delimiter=',')\n",
    "apis.columns = [x.strip() for x in apis.columns]\n",
    "api_keys = [key.strip() for key in apis.api_key.values]\n"
   ]
  },
  {
   "cell_type": "code",
   "execution_count": null,
   "metadata": {
    "collapsed": true
   },
   "outputs": [],
   "source": []
  }
 ],
 "metadata": {
  "anaconda-cloud": {},
  "kernelspec": {
   "display_name": "Python [Root]",
   "language": "python",
   "name": "Python [Root]"
  },
  "language_info": {
   "codemirror_mode": {
    "name": "ipython",
    "version": 2
   },
   "file_extension": ".py",
   "mimetype": "text/x-python",
   "name": "python",
   "nbconvert_exporter": "python",
   "pygments_lexer": "ipython2",
   "version": "2.7.12"
  }
 },
 "nbformat": 4,
 "nbformat_minor": 0
}
